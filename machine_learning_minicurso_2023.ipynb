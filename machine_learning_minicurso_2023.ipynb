{
  "nbformat": 4,
  "nbformat_minor": 0,
  "metadata": {
    "colab": {
      "provenance": [],
      "toc_visible": true
    },
    "kernelspec": {
      "name": "python3",
      "display_name": "Python 3"
    },
    "language_info": {
      "name": "python"
    }
  },
  "cells": [
    {
      "cell_type": "markdown",
      "source": [
        "Referências <br>\n",
        "[Machine Learning](https://toloka.ai/blog/machine-learning-labels-and-features/)\n",
        "\n",
        "[Select kBEST](https://medium.com/@Kavya2099/optimizing-performance-selectkbest-for-efficient-feature-selection-in-machine-learning-3b635905ed48)\n",
        "\n",
        "[Logistic Regression](https://machinelearningmastery.com/logistic-regression-for-machine-learning/)\n",
        "\n",
        "[SVC](https://pythonprogramming.net/linear-svc-example-scikit-learn-svm-python/)\n",
        "[SVC2](https://stackoverflow.com/questions/27912872/what-is-the-difference-between-svc-and-svm-in-scikit-learn)\n",
        "\n",
        "[Decision tree](https://www.coursera.org/articles/decision-tree-machine-learning)\n",
        "\n",
        "[Decision tree](https://www.ibm.com/topics/decision-trees)"
      ],
      "metadata": {
        "id": "WvPm2Pdwanj4"
      }
    },
    {
      "cell_type": "markdown",
      "source": [
        "#Importar Bibliotecas"
      ],
      "metadata": {
        "id": "2cMOt094OJ5O"
      }
    },
    {
      "cell_type": "code",
      "source": [
        "import pandas as pd\n",
        "import numpy as np\n",
        "from sklearn.linear_model import LogisticRegression\n",
        "from sklearn.tree import DecisionTreeClassifier\n",
        "from sklearn.naive_bayes import GaussianNB\n",
        "from sklearn.svm import SVC\n",
        "from sklearn.metrics import accuracy_score , f1_score\n",
        "from sklearn.feature_selection import SelectKBest\n",
        "from sklearn.model_selection import  GridSearchCV\n",
        "from sklearn.preprocessing import StandardScaler, MinMaxScaler\n",
        "from IPython.display import display\n",
        "import matplotlib.pyplot as plt\n",
        "import seaborn as sns\n",
        "from sklearn.preprocessing import scale\n",
        "%matplotlib inline"
      ],
      "metadata": {
        "id": "6UdF2r1J4_9Z"
      },
      "execution_count": 2,
      "outputs": []
    },
    {
      "cell_type": "markdown",
      "source": [
        "## Carregar os dados"
      ],
      "metadata": {
        "id": "al_jYEn7OQ4A"
      }
    },
    {
      "cell_type": "code",
      "source": [
        "from google.colab import files\n",
        "uploaded = files.upload()"
      ],
      "metadata": {
        "colab": {
          "base_uri": "https://localhost:8080/",
          "height": 73
        },
        "id": "LnxM00Is7Hb8",
        "outputId": "e5927d18-a85c-4129-979d-515046db5c4b"
      },
      "execution_count": 19,
      "outputs": [
        {
          "output_type": "display_data",
          "data": {
            "text/plain": [
              "<IPython.core.display.HTML object>"
            ],
            "text/html": [
              "\n",
              "     <input type=\"file\" id=\"files-77e9764c-60e1-47e9-b7cb-f1b87196a2b8\" name=\"files[]\" multiple disabled\n",
              "        style=\"border:none\" />\n",
              "     <output id=\"result-77e9764c-60e1-47e9-b7cb-f1b87196a2b8\">\n",
              "      Upload widget is only available when the cell has been executed in the\n",
              "      current browser session. Please rerun this cell to enable.\n",
              "      </output>\n",
              "      <script>// Copyright 2017 Google LLC\n",
              "//\n",
              "// Licensed under the Apache License, Version 2.0 (the \"License\");\n",
              "// you may not use this file except in compliance with the License.\n",
              "// You may obtain a copy of the License at\n",
              "//\n",
              "//      http://www.apache.org/licenses/LICENSE-2.0\n",
              "//\n",
              "// Unless required by applicable law or agreed to in writing, software\n",
              "// distributed under the License is distributed on an \"AS IS\" BASIS,\n",
              "// WITHOUT WARRANTIES OR CONDITIONS OF ANY KIND, either express or implied.\n",
              "// See the License for the specific language governing permissions and\n",
              "// limitations under the License.\n",
              "\n",
              "/**\n",
              " * @fileoverview Helpers for google.colab Python module.\n",
              " */\n",
              "(function(scope) {\n",
              "function span(text, styleAttributes = {}) {\n",
              "  const element = document.createElement('span');\n",
              "  element.textContent = text;\n",
              "  for (const key of Object.keys(styleAttributes)) {\n",
              "    element.style[key] = styleAttributes[key];\n",
              "  }\n",
              "  return element;\n",
              "}\n",
              "\n",
              "// Max number of bytes which will be uploaded at a time.\n",
              "const MAX_PAYLOAD_SIZE = 100 * 1024;\n",
              "\n",
              "function _uploadFiles(inputId, outputId) {\n",
              "  const steps = uploadFilesStep(inputId, outputId);\n",
              "  const outputElement = document.getElementById(outputId);\n",
              "  // Cache steps on the outputElement to make it available for the next call\n",
              "  // to uploadFilesContinue from Python.\n",
              "  outputElement.steps = steps;\n",
              "\n",
              "  return _uploadFilesContinue(outputId);\n",
              "}\n",
              "\n",
              "// This is roughly an async generator (not supported in the browser yet),\n",
              "// where there are multiple asynchronous steps and the Python side is going\n",
              "// to poll for completion of each step.\n",
              "// This uses a Promise to block the python side on completion of each step,\n",
              "// then passes the result of the previous step as the input to the next step.\n",
              "function _uploadFilesContinue(outputId) {\n",
              "  const outputElement = document.getElementById(outputId);\n",
              "  const steps = outputElement.steps;\n",
              "\n",
              "  const next = steps.next(outputElement.lastPromiseValue);\n",
              "  return Promise.resolve(next.value.promise).then((value) => {\n",
              "    // Cache the last promise value to make it available to the next\n",
              "    // step of the generator.\n",
              "    outputElement.lastPromiseValue = value;\n",
              "    return next.value.response;\n",
              "  });\n",
              "}\n",
              "\n",
              "/**\n",
              " * Generator function which is called between each async step of the upload\n",
              " * process.\n",
              " * @param {string} inputId Element ID of the input file picker element.\n",
              " * @param {string} outputId Element ID of the output display.\n",
              " * @return {!Iterable<!Object>} Iterable of next steps.\n",
              " */\n",
              "function* uploadFilesStep(inputId, outputId) {\n",
              "  const inputElement = document.getElementById(inputId);\n",
              "  inputElement.disabled = false;\n",
              "\n",
              "  const outputElement = document.getElementById(outputId);\n",
              "  outputElement.innerHTML = '';\n",
              "\n",
              "  const pickedPromise = new Promise((resolve) => {\n",
              "    inputElement.addEventListener('change', (e) => {\n",
              "      resolve(e.target.files);\n",
              "    });\n",
              "  });\n",
              "\n",
              "  const cancel = document.createElement('button');\n",
              "  inputElement.parentElement.appendChild(cancel);\n",
              "  cancel.textContent = 'Cancel upload';\n",
              "  const cancelPromise = new Promise((resolve) => {\n",
              "    cancel.onclick = () => {\n",
              "      resolve(null);\n",
              "    };\n",
              "  });\n",
              "\n",
              "  // Wait for the user to pick the files.\n",
              "  const files = yield {\n",
              "    promise: Promise.race([pickedPromise, cancelPromise]),\n",
              "    response: {\n",
              "      action: 'starting',\n",
              "    }\n",
              "  };\n",
              "\n",
              "  cancel.remove();\n",
              "\n",
              "  // Disable the input element since further picks are not allowed.\n",
              "  inputElement.disabled = true;\n",
              "\n",
              "  if (!files) {\n",
              "    return {\n",
              "      response: {\n",
              "        action: 'complete',\n",
              "      }\n",
              "    };\n",
              "  }\n",
              "\n",
              "  for (const file of files) {\n",
              "    const li = document.createElement('li');\n",
              "    li.append(span(file.name, {fontWeight: 'bold'}));\n",
              "    li.append(span(\n",
              "        `(${file.type || 'n/a'}) - ${file.size} bytes, ` +\n",
              "        `last modified: ${\n",
              "            file.lastModifiedDate ? file.lastModifiedDate.toLocaleDateString() :\n",
              "                                    'n/a'} - `));\n",
              "    const percent = span('0% done');\n",
              "    li.appendChild(percent);\n",
              "\n",
              "    outputElement.appendChild(li);\n",
              "\n",
              "    const fileDataPromise = new Promise((resolve) => {\n",
              "      const reader = new FileReader();\n",
              "      reader.onload = (e) => {\n",
              "        resolve(e.target.result);\n",
              "      };\n",
              "      reader.readAsArrayBuffer(file);\n",
              "    });\n",
              "    // Wait for the data to be ready.\n",
              "    let fileData = yield {\n",
              "      promise: fileDataPromise,\n",
              "      response: {\n",
              "        action: 'continue',\n",
              "      }\n",
              "    };\n",
              "\n",
              "    // Use a chunked sending to avoid message size limits. See b/62115660.\n",
              "    let position = 0;\n",
              "    do {\n",
              "      const length = Math.min(fileData.byteLength - position, MAX_PAYLOAD_SIZE);\n",
              "      const chunk = new Uint8Array(fileData, position, length);\n",
              "      position += length;\n",
              "\n",
              "      const base64 = btoa(String.fromCharCode.apply(null, chunk));\n",
              "      yield {\n",
              "        response: {\n",
              "          action: 'append',\n",
              "          file: file.name,\n",
              "          data: base64,\n",
              "        },\n",
              "      };\n",
              "\n",
              "      let percentDone = fileData.byteLength === 0 ?\n",
              "          100 :\n",
              "          Math.round((position / fileData.byteLength) * 100);\n",
              "      percent.textContent = `${percentDone}% done`;\n",
              "\n",
              "    } while (position < fileData.byteLength);\n",
              "  }\n",
              "\n",
              "  // All done.\n",
              "  yield {\n",
              "    response: {\n",
              "      action: 'complete',\n",
              "    }\n",
              "  };\n",
              "}\n",
              "\n",
              "scope.google = scope.google || {};\n",
              "scope.google.colab = scope.google.colab || {};\n",
              "scope.google.colab._files = {\n",
              "  _uploadFiles,\n",
              "  _uploadFilesContinue,\n",
              "};\n",
              "})(self);\n",
              "</script> "
            ]
          },
          "metadata": {}
        },
        {
          "output_type": "stream",
          "name": "stdout",
          "text": [
            "Saving data_minicurso.csv to data_minicurso.csv\n"
          ]
        }
      ]
    },
    {
      "cell_type": "markdown",
      "source": [
        "## Apresentar os dados"
      ],
      "metadata": {
        "id": "MJnVm7XAOTcV"
      }
    },
    {
      "cell_type": "code",
      "source": [
        "#lendo o arquivo data_minicurso.csv\n",
        "#O arquivo utilizado foi baixado do site www.football-data.co.uk, que agrega informações de diversos campeonatos ao redor do mundo.\n",
        "\n",
        "data=pd.read_csv('data_minicurso.csv',delimiter=',')\n",
        "\n",
        "#Verificando as 5 primeiras linhas do arquivo a ser utilizado\n",
        "display(data.head())\n",
        "\n",
        "#Notes for football data\n",
        "\n",
        "#Country = país do campeonato\n",
        "#League = nome da liga\n",
        "#game_id = id do jogo\n",
        "#Season = temporada\n",
        "#date = data do jogo\n",
        "#Time = hora do jogo\n",
        "#Home = Time da casa\n",
        "#home_id = id do time da casa\n",
        "#Away = time visitante\n",
        "#Away_id =  id do time visitante\n",
        "#HG = Gols do time da casa\n",
        "#AG = Gols do time visitante\n",
        "#Res = Resultado do jogo (D=Draw, H=Home win, A=Away win) (0=Draw, 1=Home, 2=Away)\n",
        "#PH = probablidade vitória time da casa provida pela Pinacle (casa de aposta inglesa)\n",
        "#PD = probablidade empate provida pela Pinacle (casa de aposta inglesa)\n",
        "#PA = probablidade vitória time visitante provida pela Pinacle (casa de aposta inglesa)\n",
        "#MaxH = probablidade vitória time da casa provida pela OddsPortal (casa de aposta inglesa)\n",
        "#MaxD = probablidade empate provida pela OddsPortal (casa de aposta inglesa)\n",
        "#MaxA = probablidade vitória time visitante provida pela OddsPortal (casa de aposta ingles\n",
        "#AvgH = probablidade média de vitória em casa provida pela OddsPortal (casa de aposta inglesa)\n",
        "#AvgD = probablidade média de empate provida pela OddsPortal (casa de aposta inglesa)\n",
        "#AvgA = probablidade média de vitória pelo time visitante provida pela OddsPortal (casa de aposta inglesa)"
      ],
      "metadata": {
        "colab": {
          "base_uri": "https://localhost:8080/",
          "height": 236
        },
        "id": "KcuaTqksKCtF",
        "outputId": "888106bf-4ca5-40c7-c790-635fcd4dc494"
      },
      "execution_count": 37,
      "outputs": [
        {
          "output_type": "display_data",
          "data": {
            "text/plain": [
              "  Country   League  game_id  Season      Date   Time          Home  home_id  \\\n",
              "0  Brazil  Serie A        1    2012  19-05-12  22:30     Palmeiras       21   \n",
              "1  Brazil  Serie A        2    2012  19-05-12  22:30  Sport Recife       27   \n",
              "2  Brazil  Serie A        3    2012  20-05-12   1:00   Figueirense       13   \n",
              "3  Brazil  Serie A        4    2012  20-05-12  20:00   Botafogo RJ        7   \n",
              "4  Brazil  Serie A        5    2012  20-05-12  20:00   Corinthians        9   \n",
              "\n",
              "          Away  Away_id  ...  Res    PH    PD    PA  MaxH  MaxD  MaxA  AvgH  \\\n",
              "0   Portuguesa       21  ...    0  1.75  3.86  5.25  1.76  3.87  5.31  1.69   \n",
              "1  Flamengo RJ       27  ...    0  2.83  3.39  2.68  2.83  3.42  2.70  2.59   \n",
              "2      Nautico       13  ...    1  1.60  4.04  6.72  1.67  4.05  7.22  1.59   \n",
              "3    Sao Paulo        7  ...    1  2.49  3.35  3.15  2.49  3.39  3.15  2.35   \n",
              "4   Fluminense        9  ...    2  1.96  3.53  4.41  1.96  3.53  4.41  1.89   \n",
              "\n",
              "   AvgD  AvgA  \n",
              "0  3.50  4.90  \n",
              "1  3.23  2.58  \n",
              "2  3.67  5.64  \n",
              "3  3.26  2.84  \n",
              "4  3.33  3.89  \n",
              "\n",
              "[5 rows x 22 columns]"
            ],
            "text/html": [
              "\n",
              "  <div id=\"df-5a96334f-4e0d-4919-a03b-858ac378ee68\" class=\"colab-df-container\">\n",
              "    <div>\n",
              "<style scoped>\n",
              "    .dataframe tbody tr th:only-of-type {\n",
              "        vertical-align: middle;\n",
              "    }\n",
              "\n",
              "    .dataframe tbody tr th {\n",
              "        vertical-align: top;\n",
              "    }\n",
              "\n",
              "    .dataframe thead th {\n",
              "        text-align: right;\n",
              "    }\n",
              "</style>\n",
              "<table border=\"1\" class=\"dataframe\">\n",
              "  <thead>\n",
              "    <tr style=\"text-align: right;\">\n",
              "      <th></th>\n",
              "      <th>Country</th>\n",
              "      <th>League</th>\n",
              "      <th>game_id</th>\n",
              "      <th>Season</th>\n",
              "      <th>Date</th>\n",
              "      <th>Time</th>\n",
              "      <th>Home</th>\n",
              "      <th>home_id</th>\n",
              "      <th>Away</th>\n",
              "      <th>Away_id</th>\n",
              "      <th>...</th>\n",
              "      <th>Res</th>\n",
              "      <th>PH</th>\n",
              "      <th>PD</th>\n",
              "      <th>PA</th>\n",
              "      <th>MaxH</th>\n",
              "      <th>MaxD</th>\n",
              "      <th>MaxA</th>\n",
              "      <th>AvgH</th>\n",
              "      <th>AvgD</th>\n",
              "      <th>AvgA</th>\n",
              "    </tr>\n",
              "  </thead>\n",
              "  <tbody>\n",
              "    <tr>\n",
              "      <th>0</th>\n",
              "      <td>Brazil</td>\n",
              "      <td>Serie A</td>\n",
              "      <td>1</td>\n",
              "      <td>2012</td>\n",
              "      <td>19-05-12</td>\n",
              "      <td>22:30</td>\n",
              "      <td>Palmeiras</td>\n",
              "      <td>21</td>\n",
              "      <td>Portuguesa</td>\n",
              "      <td>21</td>\n",
              "      <td>...</td>\n",
              "      <td>0</td>\n",
              "      <td>1.75</td>\n",
              "      <td>3.86</td>\n",
              "      <td>5.25</td>\n",
              "      <td>1.76</td>\n",
              "      <td>3.87</td>\n",
              "      <td>5.31</td>\n",
              "      <td>1.69</td>\n",
              "      <td>3.50</td>\n",
              "      <td>4.90</td>\n",
              "    </tr>\n",
              "    <tr>\n",
              "      <th>1</th>\n",
              "      <td>Brazil</td>\n",
              "      <td>Serie A</td>\n",
              "      <td>2</td>\n",
              "      <td>2012</td>\n",
              "      <td>19-05-12</td>\n",
              "      <td>22:30</td>\n",
              "      <td>Sport Recife</td>\n",
              "      <td>27</td>\n",
              "      <td>Flamengo RJ</td>\n",
              "      <td>27</td>\n",
              "      <td>...</td>\n",
              "      <td>0</td>\n",
              "      <td>2.83</td>\n",
              "      <td>3.39</td>\n",
              "      <td>2.68</td>\n",
              "      <td>2.83</td>\n",
              "      <td>3.42</td>\n",
              "      <td>2.70</td>\n",
              "      <td>2.59</td>\n",
              "      <td>3.23</td>\n",
              "      <td>2.58</td>\n",
              "    </tr>\n",
              "    <tr>\n",
              "      <th>2</th>\n",
              "      <td>Brazil</td>\n",
              "      <td>Serie A</td>\n",
              "      <td>3</td>\n",
              "      <td>2012</td>\n",
              "      <td>20-05-12</td>\n",
              "      <td>1:00</td>\n",
              "      <td>Figueirense</td>\n",
              "      <td>13</td>\n",
              "      <td>Nautico</td>\n",
              "      <td>13</td>\n",
              "      <td>...</td>\n",
              "      <td>1</td>\n",
              "      <td>1.60</td>\n",
              "      <td>4.04</td>\n",
              "      <td>6.72</td>\n",
              "      <td>1.67</td>\n",
              "      <td>4.05</td>\n",
              "      <td>7.22</td>\n",
              "      <td>1.59</td>\n",
              "      <td>3.67</td>\n",
              "      <td>5.64</td>\n",
              "    </tr>\n",
              "    <tr>\n",
              "      <th>3</th>\n",
              "      <td>Brazil</td>\n",
              "      <td>Serie A</td>\n",
              "      <td>4</td>\n",
              "      <td>2012</td>\n",
              "      <td>20-05-12</td>\n",
              "      <td>20:00</td>\n",
              "      <td>Botafogo RJ</td>\n",
              "      <td>7</td>\n",
              "      <td>Sao Paulo</td>\n",
              "      <td>7</td>\n",
              "      <td>...</td>\n",
              "      <td>1</td>\n",
              "      <td>2.49</td>\n",
              "      <td>3.35</td>\n",
              "      <td>3.15</td>\n",
              "      <td>2.49</td>\n",
              "      <td>3.39</td>\n",
              "      <td>3.15</td>\n",
              "      <td>2.35</td>\n",
              "      <td>3.26</td>\n",
              "      <td>2.84</td>\n",
              "    </tr>\n",
              "    <tr>\n",
              "      <th>4</th>\n",
              "      <td>Brazil</td>\n",
              "      <td>Serie A</td>\n",
              "      <td>5</td>\n",
              "      <td>2012</td>\n",
              "      <td>20-05-12</td>\n",
              "      <td>20:00</td>\n",
              "      <td>Corinthians</td>\n",
              "      <td>9</td>\n",
              "      <td>Fluminense</td>\n",
              "      <td>9</td>\n",
              "      <td>...</td>\n",
              "      <td>2</td>\n",
              "      <td>1.96</td>\n",
              "      <td>3.53</td>\n",
              "      <td>4.41</td>\n",
              "      <td>1.96</td>\n",
              "      <td>3.53</td>\n",
              "      <td>4.41</td>\n",
              "      <td>1.89</td>\n",
              "      <td>3.33</td>\n",
              "      <td>3.89</td>\n",
              "    </tr>\n",
              "  </tbody>\n",
              "</table>\n",
              "<p>5 rows × 22 columns</p>\n",
              "</div>\n",
              "    <div class=\"colab-df-buttons\">\n",
              "\n",
              "  <div class=\"colab-df-container\">\n",
              "    <button class=\"colab-df-convert\" onclick=\"convertToInteractive('df-5a96334f-4e0d-4919-a03b-858ac378ee68')\"\n",
              "            title=\"Convert this dataframe to an interactive table.\"\n",
              "            style=\"display:none;\">\n",
              "\n",
              "  <svg xmlns=\"http://www.w3.org/2000/svg\" height=\"24px\" viewBox=\"0 -960 960 960\">\n",
              "    <path d=\"M120-120v-720h720v720H120Zm60-500h600v-160H180v160Zm220 220h160v-160H400v160Zm0 220h160v-160H400v160ZM180-400h160v-160H180v160Zm440 0h160v-160H620v160ZM180-180h160v-160H180v160Zm440 0h160v-160H620v160Z\"/>\n",
              "  </svg>\n",
              "    </button>\n",
              "\n",
              "  <style>\n",
              "    .colab-df-container {\n",
              "      display:flex;\n",
              "      gap: 12px;\n",
              "    }\n",
              "\n",
              "    .colab-df-convert {\n",
              "      background-color: #E8F0FE;\n",
              "      border: none;\n",
              "      border-radius: 50%;\n",
              "      cursor: pointer;\n",
              "      display: none;\n",
              "      fill: #1967D2;\n",
              "      height: 32px;\n",
              "      padding: 0 0 0 0;\n",
              "      width: 32px;\n",
              "    }\n",
              "\n",
              "    .colab-df-convert:hover {\n",
              "      background-color: #E2EBFA;\n",
              "      box-shadow: 0px 1px 2px rgba(60, 64, 67, 0.3), 0px 1px 3px 1px rgba(60, 64, 67, 0.15);\n",
              "      fill: #174EA6;\n",
              "    }\n",
              "\n",
              "    .colab-df-buttons div {\n",
              "      margin-bottom: 4px;\n",
              "    }\n",
              "\n",
              "    [theme=dark] .colab-df-convert {\n",
              "      background-color: #3B4455;\n",
              "      fill: #D2E3FC;\n",
              "    }\n",
              "\n",
              "    [theme=dark] .colab-df-convert:hover {\n",
              "      background-color: #434B5C;\n",
              "      box-shadow: 0px 1px 3px 1px rgba(0, 0, 0, 0.15);\n",
              "      filter: drop-shadow(0px 1px 2px rgba(0, 0, 0, 0.3));\n",
              "      fill: #FFFFFF;\n",
              "    }\n",
              "  </style>\n",
              "\n",
              "    <script>\n",
              "      const buttonEl =\n",
              "        document.querySelector('#df-5a96334f-4e0d-4919-a03b-858ac378ee68 button.colab-df-convert');\n",
              "      buttonEl.style.display =\n",
              "        google.colab.kernel.accessAllowed ? 'block' : 'none';\n",
              "\n",
              "      async function convertToInteractive(key) {\n",
              "        const element = document.querySelector('#df-5a96334f-4e0d-4919-a03b-858ac378ee68');\n",
              "        const dataTable =\n",
              "          await google.colab.kernel.invokeFunction('convertToInteractive',\n",
              "                                                    [key], {});\n",
              "        if (!dataTable) return;\n",
              "\n",
              "        const docLinkHtml = 'Like what you see? Visit the ' +\n",
              "          '<a target=\"_blank\" href=https://colab.research.google.com/notebooks/data_table.ipynb>data table notebook</a>'\n",
              "          + ' to learn more about interactive tables.';\n",
              "        element.innerHTML = '';\n",
              "        dataTable['output_type'] = 'display_data';\n",
              "        await google.colab.output.renderOutput(dataTable, element);\n",
              "        const docLink = document.createElement('div');\n",
              "        docLink.innerHTML = docLinkHtml;\n",
              "        element.appendChild(docLink);\n",
              "      }\n",
              "    </script>\n",
              "  </div>\n",
              "\n",
              "\n",
              "<div id=\"df-e6575db8-40cf-436a-b0f1-040ff3977f99\">\n",
              "  <button class=\"colab-df-quickchart\" onclick=\"quickchart('df-e6575db8-40cf-436a-b0f1-040ff3977f99')\"\n",
              "            title=\"Suggest charts\"\n",
              "            style=\"display:none;\">\n",
              "\n",
              "<svg xmlns=\"http://www.w3.org/2000/svg\" height=\"24px\"viewBox=\"0 0 24 24\"\n",
              "     width=\"24px\">\n",
              "    <g>\n",
              "        <path d=\"M19 3H5c-1.1 0-2 .9-2 2v14c0 1.1.9 2 2 2h14c1.1 0 2-.9 2-2V5c0-1.1-.9-2-2-2zM9 17H7v-7h2v7zm4 0h-2V7h2v10zm4 0h-2v-4h2v4z\"/>\n",
              "    </g>\n",
              "</svg>\n",
              "  </button>\n",
              "\n",
              "<style>\n",
              "  .colab-df-quickchart {\n",
              "      --bg-color: #E8F0FE;\n",
              "      --fill-color: #1967D2;\n",
              "      --hover-bg-color: #E2EBFA;\n",
              "      --hover-fill-color: #174EA6;\n",
              "      --disabled-fill-color: #AAA;\n",
              "      --disabled-bg-color: #DDD;\n",
              "  }\n",
              "\n",
              "  [theme=dark] .colab-df-quickchart {\n",
              "      --bg-color: #3B4455;\n",
              "      --fill-color: #D2E3FC;\n",
              "      --hover-bg-color: #434B5C;\n",
              "      --hover-fill-color: #FFFFFF;\n",
              "      --disabled-bg-color: #3B4455;\n",
              "      --disabled-fill-color: #666;\n",
              "  }\n",
              "\n",
              "  .colab-df-quickchart {\n",
              "    background-color: var(--bg-color);\n",
              "    border: none;\n",
              "    border-radius: 50%;\n",
              "    cursor: pointer;\n",
              "    display: none;\n",
              "    fill: var(--fill-color);\n",
              "    height: 32px;\n",
              "    padding: 0;\n",
              "    width: 32px;\n",
              "  }\n",
              "\n",
              "  .colab-df-quickchart:hover {\n",
              "    background-color: var(--hover-bg-color);\n",
              "    box-shadow: 0 1px 2px rgba(60, 64, 67, 0.3), 0 1px 3px 1px rgba(60, 64, 67, 0.15);\n",
              "    fill: var(--button-hover-fill-color);\n",
              "  }\n",
              "\n",
              "  .colab-df-quickchart-complete:disabled,\n",
              "  .colab-df-quickchart-complete:disabled:hover {\n",
              "    background-color: var(--disabled-bg-color);\n",
              "    fill: var(--disabled-fill-color);\n",
              "    box-shadow: none;\n",
              "  }\n",
              "\n",
              "  .colab-df-spinner {\n",
              "    border: 2px solid var(--fill-color);\n",
              "    border-color: transparent;\n",
              "    border-bottom-color: var(--fill-color);\n",
              "    animation:\n",
              "      spin 1s steps(1) infinite;\n",
              "  }\n",
              "\n",
              "  @keyframes spin {\n",
              "    0% {\n",
              "      border-color: transparent;\n",
              "      border-bottom-color: var(--fill-color);\n",
              "      border-left-color: var(--fill-color);\n",
              "    }\n",
              "    20% {\n",
              "      border-color: transparent;\n",
              "      border-left-color: var(--fill-color);\n",
              "      border-top-color: var(--fill-color);\n",
              "    }\n",
              "    30% {\n",
              "      border-color: transparent;\n",
              "      border-left-color: var(--fill-color);\n",
              "      border-top-color: var(--fill-color);\n",
              "      border-right-color: var(--fill-color);\n",
              "    }\n",
              "    40% {\n",
              "      border-color: transparent;\n",
              "      border-right-color: var(--fill-color);\n",
              "      border-top-color: var(--fill-color);\n",
              "    }\n",
              "    60% {\n",
              "      border-color: transparent;\n",
              "      border-right-color: var(--fill-color);\n",
              "    }\n",
              "    80% {\n",
              "      border-color: transparent;\n",
              "      border-right-color: var(--fill-color);\n",
              "      border-bottom-color: var(--fill-color);\n",
              "    }\n",
              "    90% {\n",
              "      border-color: transparent;\n",
              "      border-bottom-color: var(--fill-color);\n",
              "    }\n",
              "  }\n",
              "</style>\n",
              "\n",
              "  <script>\n",
              "    async function quickchart(key) {\n",
              "      const quickchartButtonEl =\n",
              "        document.querySelector('#' + key + ' button');\n",
              "      quickchartButtonEl.disabled = true;  // To prevent multiple clicks.\n",
              "      quickchartButtonEl.classList.add('colab-df-spinner');\n",
              "      try {\n",
              "        const charts = await google.colab.kernel.invokeFunction(\n",
              "            'suggestCharts', [key], {});\n",
              "      } catch (error) {\n",
              "        console.error('Error during call to suggestCharts:', error);\n",
              "      }\n",
              "      quickchartButtonEl.classList.remove('colab-df-spinner');\n",
              "      quickchartButtonEl.classList.add('colab-df-quickchart-complete');\n",
              "    }\n",
              "    (() => {\n",
              "      let quickchartButtonEl =\n",
              "        document.querySelector('#df-e6575db8-40cf-436a-b0f1-040ff3977f99 button');\n",
              "      quickchartButtonEl.style.display =\n",
              "        google.colab.kernel.accessAllowed ? 'block' : 'none';\n",
              "    })();\n",
              "  </script>\n",
              "</div>\n",
              "    </div>\n",
              "  </div>\n"
            ]
          },
          "metadata": {}
        }
      ]
    },
    {
      "cell_type": "markdown",
      "source": [
        "## Explorando os dados\n",
        "## Base de dados dos campeonatos de 2012 a 2017"
      ],
      "metadata": {
        "id": "HRD92s8lOiqA"
      }
    },
    {
      "cell_type": "code",
      "source": [
        "matches = data.shape[0]\n",
        "\n",
        "features = data.shape[1] -1 #Retirando a coluna Resultado\n",
        "\n",
        "home_win = len(data[data.Res==1])\n",
        "away_win = len(data[data.Res==2])\n",
        "draw = len(data[data.Res==0])\n",
        "val=[home_win,away_win,draw]\n",
        "\n",
        "win_rate = (float(home_win)/(matches)) *100\n",
        "\n",
        "print ('Total de jogos: ', matches)\n",
        "print ('Total de colunas: ', features)\n",
        "print ('Total de jogos ganhos em casa: ', home_win)\n",
        "print ('Total de jogos ganhos pelo visitante: ', away_win)\n",
        "print ('Total de jogos empatados: ', draw)\n",
        "print ('Percentual de jogos ganhos em casa: {:.2f}%'.format( win_rate ))\n",
        "\n",
        "#Podemos notar que o \"fator casa\" é importante , sendo que em quase 50% do jogos são ganhos pelo time da casa."
      ],
      "metadata": {
        "colab": {
          "base_uri": "https://localhost:8080/"
        },
        "id": "aCj7xvkUL3AM",
        "outputId": "daf78390-580d-42ac-cba2-dd1666cdac36"
      },
      "execution_count": 21,
      "outputs": [
        {
          "output_type": "stream",
          "name": "stdout",
          "text": [
            "Total de jogos:  2279\n",
            "Total de colunas:  21\n",
            "Total de jogos ganhos em casa:  1133\n",
            "Total de jogos ganhos pelo visitante:  553\n",
            "Total de jogos empatados:  593\n",
            "Percentual de jogos ganhos em casa: 49.71%\n"
          ]
        }
      ]
    },
    {
      "cell_type": "markdown",
      "source": [
        "## Visualizando os dados"
      ],
      "metadata": {
        "id": "pWIF7D8OOwCz"
      }
    },
    {
      "cell_type": "code",
      "source": [
        "x = np.arange(3)\n",
        "plt.bar(x, val)\n",
        "plt.xticks(x, ('Home', 'Away', 'Draw'))\n",
        "plt.show()"
      ],
      "metadata": {
        "colab": {
          "base_uri": "https://localhost:8080/",
          "height": 430
        },
        "id": "xLsKg2byL9wB",
        "outputId": "e424fb57-48cb-4921-946a-9ed81939fc0f"
      },
      "execution_count": 23,
      "outputs": [
        {
          "output_type": "display_data",
          "data": {
            "text/plain": [
              "<Figure size 640x480 with 1 Axes>"
            ],
            "image/png": "[encoded data removed]"
          },
          "metadata": {}
        }
      ]
    },
    {
      "cell_type": "markdown",
      "source": [
        "## Preparando os dados\n",
        "\n",
        "### Deixar somente as variáveis numericas"
      ],
      "metadata": {
        "id": "NrLAb7o0O0Hi"
      }
    },
    {
      "cell_type": "code",
      "source": [
        "num_data = data.drop(['Country','League','Season','Date','Time','Home','Away'],1)\n",
        "\n",
        "display(num_data.head())"
      ],
      "metadata": {
        "colab": {
          "base_uri": "https://localhost:8080/",
          "height": 241
        },
        "id": "joZPakIHMLuS",
        "outputId": "4923f1d7-db62-4dcf-b004-c7320644b4a2"
      },
      "execution_count": 24,
      "outputs": [
        {
          "output_type": "stream",
          "name": "stderr",
          "text": [
            "<ipython-input-24-4b20583e4f50>:1: FutureWarning: In a future version of pandas all arguments of DataFrame.drop except for the argument 'labels' will be keyword-only.\n",
            "  num_data = data.drop(['Country','League','Season','Date','Time','Home','Away'],1)\n"
          ]
        },
        {
          "output_type": "display_data",
          "data": {
            "text/plain": [
              "   game_id  home_id  Away_id  HG  AG  Res    PH    PD    PA  MaxH  MaxD  MaxA  \\\n",
              "0        1       21       21   1   1    0  1.75  3.86  5.25  1.76  3.87  5.31   \n",
              "1        2       27       27   1   1    0  2.83  3.39  2.68  2.83  3.42  2.70   \n",
              "2        3       13       13   2   1    1  1.60  4.04  6.72  1.67  4.05  7.22   \n",
              "3        4        7        7   4   2    1  2.49  3.35  3.15  2.49  3.39  3.15   \n",
              "4        5        9        9   0   1    2  1.96  3.53  4.41  1.96  3.53  4.41   \n",
              "\n",
              "   AvgH  AvgD  AvgA  \n",
              "0  1.69  3.50  4.90  \n",
              "1  2.59  3.23  2.58  \n",
              "2  1.59  3.67  5.64  \n",
              "3  2.35  3.26  2.84  \n",
              "4  1.89  3.33  3.89  "
            ],
            "text/html": [
              "\n",
              "  <div id=\"df-c3ac48f1-244e-4c54-8f7c-abaf03fa3ddd\" class=\"colab-df-container\">\n",
              "    <div>\n",
              "<style scoped>\n",
              "    .dataframe tbody tr th:only-of-type {\n",
              "        vertical-align: middle;\n",
              "    }\n",
              "\n",
              "    .dataframe tbody tr th {\n",
              "        vertical-align: top;\n",
              "    }\n",
              "\n",
              "    .dataframe thead th {\n",
              "        text-align: right;\n",
              "    }\n",
              "</style>\n",
              "<table border=\"1\" class=\"dataframe\">\n",
              "  <thead>\n",
              "    <tr style=\"text-align: right;\">\n",
              "      <th></th>\n",
              "      <th>game_id</th>\n",
              "      <th>home_id</th>\n",
              "      <th>Away_id</th>\n",
              "      <th>HG</th>\n",
              "      <th>AG</th>\n",
              "      <th>Res</th>\n",
              "      <th>PH</th>\n",
              "      <th>PD</th>\n",
              "      <th>PA</th>\n",
              "      <th>MaxH</th>\n",
              "      <th>MaxD</th>\n",
              "      <th>MaxA</th>\n",
              "      <th>AvgH</th>\n",
              "      <th>AvgD</th>\n",
              "      <th>AvgA</th>\n",
              "    </tr>\n",
              "  </thead>\n",
              "  <tbody>\n",
              "    <tr>\n",
              "      <th>0</th>\n",
              "      <td>1</td>\n",
              "      <td>21</td>\n",
              "      <td>21</td>\n",
              "      <td>1</td>\n",
              "      <td>1</td>\n",
              "      <td>0</td>\n",
              "      <td>1.75</td>\n",
              "      <td>3.86</td>\n",
              "      <td>5.25</td>\n",
              "      <td>1.76</td>\n",
              "      <td>3.87</td>\n",
              "      <td>5.31</td>\n",
              "      <td>1.69</td>\n",
              "      <td>3.50</td>\n",
              "      <td>4.90</td>\n",
              "    </tr>\n",
              "    <tr>\n",
              "      <th>1</th>\n",
              "      <td>2</td>\n",
              "      <td>27</td>\n",
              "      <td>27</td>\n",
              "      <td>1</td>\n",
              "      <td>1</td>\n",
              "      <td>0</td>\n",
              "      <td>2.83</td>\n",
              "      <td>3.39</td>\n",
              "      <td>2.68</td>\n",
              "      <td>2.83</td>\n",
              "      <td>3.42</td>\n",
              "      <td>2.70</td>\n",
              "      <td>2.59</td>\n",
              "      <td>3.23</td>\n",
              "      <td>2.58</td>\n",
              "    </tr>\n",
              "    <tr>\n",
              "      <th>2</th>\n",
              "      <td>3</td>\n",
              "      <td>13</td>\n",
              "      <td>13</td>\n",
              "      <td>2</td>\n",
              "      <td>1</td>\n",
              "      <td>1</td>\n",
              "      <td>1.60</td>\n",
              "      <td>4.04</td>\n",
              "      <td>6.72</td>\n",
              "      <td>1.67</td>\n",
              "      <td>4.05</td>\n",
              "      <td>7.22</td>\n",
              "      <td>1.59</td>\n",
              "      <td>3.67</td>\n",
              "      <td>5.64</td>\n",
              "    </tr>\n",
              "    <tr>\n",
              "      <th>3</th>\n",
              "      <td>4</td>\n",
              "      <td>7</td>\n",
              "      <td>7</td>\n",
              "      <td>4</td>\n",
              "      <td>2</td>\n",
              "      <td>1</td>\n",
              "      <td>2.49</td>\n",
              "      <td>3.35</td>\n",
              "      <td>3.15</td>\n",
              "      <td>2.49</td>\n",
              "      <td>3.39</td>\n",
              "      <td>3.15</td>\n",
              "      <td>2.35</td>\n",
              "      <td>3.26</td>\n",
              "      <td>2.84</td>\n",
              "    </tr>\n",
              "    <tr>\n",
              "      <th>4</th>\n",
              "      <td>5</td>\n",
              "      <td>9</td>\n",
              "      <td>9</td>\n",
              "      <td>0</td>\n",
              "      <td>1</td>\n",
              "      <td>2</td>\n",
              "      <td>1.96</td>\n",
              "      <td>3.53</td>\n",
              "      <td>4.41</td>\n",
              "      <td>1.96</td>\n",
              "      <td>3.53</td>\n",
              "      <td>4.41</td>\n",
              "      <td>1.89</td>\n",
              "      <td>3.33</td>\n",
              "      <td>3.89</td>\n",
              "    </tr>\n",
              "  </tbody>\n",
              "</table>\n",
              "</div>\n",
              "    <div class=\"colab-df-buttons\">\n",
              "\n",
              "  <div class=\"colab-df-container\">\n",
              "    <button class=\"colab-df-convert\" onclick=\"convertToInteractive('df-c3ac48f1-244e-4c54-8f7c-abaf03fa3ddd')\"\n",
              "            title=\"Convert this dataframe to an interactive table.\"\n",
              "            style=\"display:none;\">\n",
              "\n",
              "  <svg xmlns=\"http://www.w3.org/2000/svg\" height=\"24px\" viewBox=\"0 -960 960 960\">\n",
              "    <path d=\"M120-120v-720h720v720H120Zm60-500h600v-160H180v160Zm220 220h160v-160H400v160Zm0 220h160v-160H400v160ZM180-400h160v-160H180v160Zm440 0h160v-160H620v160ZM180-180h160v-160H180v160Zm440 0h160v-160H620v160Z\"/>\n",
              "  </svg>\n",
              "    </button>\n",
              "\n",
              "  <style>\n",
              "    .colab-df-container {\n",
              "      display:flex;\n",
              "      gap: 12px;\n",
              "    }\n",
              "\n",
              "    .colab-df-convert {\n",
              "      background-color: #E8F0FE;\n",
              "      border: none;\n",
              "      border-radius: 50%;\n",
              "      cursor: pointer;\n",
              "      display: none;\n",
              "      fill: #1967D2;\n",
              "      height: 32px;\n",
              "      padding: 0 0 0 0;\n",
              "      width: 32px;\n",
              "    }\n",
              "\n",
              "    .colab-df-convert:hover {\n",
              "      background-color: #E2EBFA;\n",
              "      box-shadow: 0px 1px 2px rgba(60, 64, 67, 0.3), 0px 1px 3px 1px rgba(60, 64, 67, 0.15);\n",
              "      fill: #174EA6;\n",
              "    }\n",
              "\n",
              "    .colab-df-buttons div {\n",
              "      margin-bottom: 4px;\n",
              "    }\n",
              "\n",
              "    [theme=dark] .colab-df-convert {\n",
              "      background-color: #3B4455;\n",
              "      fill: #D2E3FC;\n",
              "    }\n",
              "\n",
              "    [theme=dark] .colab-df-convert:hover {\n",
              "      background-color: #434B5C;\n",
              "      box-shadow: 0px 1px 3px 1px rgba(0, 0, 0, 0.15);\n",
              "      filter: drop-shadow(0px 1px 2px rgba(0, 0, 0, 0.3));\n",
              "      fill: #FFFFFF;\n",
              "    }\n",
              "  </style>\n",
              "\n",
              "    <script>\n",
              "      const buttonEl =\n",
              "        document.querySelector('#df-c3ac48f1-244e-4c54-8f7c-abaf03fa3ddd button.colab-df-convert');\n",
              "      buttonEl.style.display =\n",
              "        google.colab.kernel.accessAllowed ? 'block' : 'none';\n",
              "\n",
              "      async function convertToInteractive(key) {\n",
              "        const element = document.querySelector('#df-c3ac48f1-244e-4c54-8f7c-abaf03fa3ddd');\n",
              "        const dataTable =\n",
              "          await google.colab.kernel.invokeFunction('convertToInteractive',\n",
              "                                                    [key], {});\n",
              "        if (!dataTable) return;\n",
              "\n",
              "        const docLinkHtml = 'Like what you see? Visit the ' +\n",
              "          '<a target=\"_blank\" href=https://colab.research.google.com/notebooks/data_table.ipynb>data table notebook</a>'\n",
              "          + ' to learn more about interactive tables.';\n",
              "        element.innerHTML = '';\n",
              "        dataTable['output_type'] = 'display_data';\n",
              "        await google.colab.output.renderOutput(dataTable, element);\n",
              "        const docLink = document.createElement('div');\n",
              "        docLink.innerHTML = docLinkHtml;\n",
              "        element.appendChild(docLink);\n",
              "      }\n",
              "    </script>\n",
              "  </div>\n",
              "\n",
              "\n",
              "<div id=\"df-b3b36a10-ec77-42bf-9b56-467eb6a7c1d6\">\n",
              "  <button class=\"colab-df-quickchart\" onclick=\"quickchart('df-b3b36a10-ec77-42bf-9b56-467eb6a7c1d6')\"\n",
              "            title=\"Suggest charts\"\n",
              "            style=\"display:none;\">\n",
              "\n",
              "<svg xmlns=\"http://www.w3.org/2000/svg\" height=\"24px\"viewBox=\"0 0 24 24\"\n",
              "     width=\"24px\">\n",
              "    <g>\n",
              "        <path d=\"M19 3H5c-1.1 0-2 .9-2 2v14c0 1.1.9 2 2 2h14c1.1 0 2-.9 2-2V5c0-1.1-.9-2-2-2zM9 17H7v-7h2v7zm4 0h-2V7h2v10zm4 0h-2v-4h2v4z\"/>\n",
              "    </g>\n",
              "</svg>\n",
              "  </button>\n",
              "\n",
              "<style>\n",
              "  .colab-df-quickchart {\n",
              "      --bg-color: #E8F0FE;\n",
              "      --fill-color: #1967D2;\n",
              "      --hover-bg-color: #E2EBFA;\n",
              "      --hover-fill-color: #174EA6;\n",
              "      --disabled-fill-color: #AAA;\n",
              "      --disabled-bg-color: #DDD;\n",
              "  }\n",
              "\n",
              "  [theme=dark] .colab-df-quickchart {\n",
              "      --bg-color: #3B4455;\n",
              "      --fill-color: #D2E3FC;\n",
              "      --hover-bg-color: #434B5C;\n",
              "      --hover-fill-color: #FFFFFF;\n",
              "      --disabled-bg-color: #3B4455;\n",
              "      --disabled-fill-color: #666;\n",
              "  }\n",
              "\n",
              "  .colab-df-quickchart {\n",
              "    background-color: var(--bg-color);\n",
              "    border: none;\n",
              "    border-radius: 50%;\n",
              "    cursor: pointer;\n",
              "    display: none;\n",
              "    fill: var(--fill-color);\n",
              "    height: 32px;\n",
              "    padding: 0;\n",
              "    width: 32px;\n",
              "  }\n",
              "\n",
              "  .colab-df-quickchart:hover {\n",
              "    background-color: var(--hover-bg-color);\n",
              "    box-shadow: 0 1px 2px rgba(60, 64, 67, 0.3), 0 1px 3px 1px rgba(60, 64, 67, 0.15);\n",
              "    fill: var(--button-hover-fill-color);\n",
              "  }\n",
              "\n",
              "  .colab-df-quickchart-complete:disabled,\n",
              "  .colab-df-quickchart-complete:disabled:hover {\n",
              "    background-color: var(--disabled-bg-color);\n",
              "    fill: var(--disabled-fill-color);\n",
              "    box-shadow: none;\n",
              "  }\n",
              "\n",
              "  .colab-df-spinner {\n",
              "    border: 2px solid var(--fill-color);\n",
              "    border-color: transparent;\n",
              "    border-bottom-color: var(--fill-color);\n",
              "    animation:\n",
              "      spin 1s steps(1) infinite;\n",
              "  }\n",
              "\n",
              "  @keyframes spin {\n",
              "    0% {\n",
              "      border-color: transparent;\n",
              "      border-bottom-color: var(--fill-color);\n",
              "      border-left-color: var(--fill-color);\n",
              "    }\n",
              "    20% {\n",
              "      border-color: transparent;\n",
              "      border-left-color: var(--fill-color);\n",
              "      border-top-color: var(--fill-color);\n",
              "    }\n",
              "    30% {\n",
              "      border-color: transparent;\n",
              "      border-left-color: var(--fill-color);\n",
              "      border-top-color: var(--fill-color);\n",
              "      border-right-color: var(--fill-color);\n",
              "    }\n",
              "    40% {\n",
              "      border-color: transparent;\n",
              "      border-right-color: var(--fill-color);\n",
              "      border-top-color: var(--fill-color);\n",
              "    }\n",
              "    60% {\n",
              "      border-color: transparent;\n",
              "      border-right-color: var(--fill-color);\n",
              "    }\n",
              "    80% {\n",
              "      border-color: transparent;\n",
              "      border-right-color: var(--fill-color);\n",
              "      border-bottom-color: var(--fill-color);\n",
              "    }\n",
              "    90% {\n",
              "      border-color: transparent;\n",
              "      border-bottom-color: var(--fill-color);\n",
              "    }\n",
              "  }\n",
              "</style>\n",
              "\n",
              "  <script>\n",
              "    async function quickchart(key) {\n",
              "      const quickchartButtonEl =\n",
              "        document.querySelector('#' + key + ' button');\n",
              "      quickchartButtonEl.disabled = true;  // To prevent multiple clicks.\n",
              "      quickchartButtonEl.classList.add('colab-df-spinner');\n",
              "      try {\n",
              "        const charts = await google.colab.kernel.invokeFunction(\n",
              "            'suggestCharts', [key], {});\n",
              "      } catch (error) {\n",
              "        console.error('Error during call to suggestCharts:', error);\n",
              "      }\n",
              "      quickchartButtonEl.classList.remove('colab-df-spinner');\n",
              "      quickchartButtonEl.classList.add('colab-df-quickchart-complete');\n",
              "    }\n",
              "    (() => {\n",
              "      let quickchartButtonEl =\n",
              "        document.querySelector('#df-b3b36a10-ec77-42bf-9b56-467eb6a7c1d6 button');\n",
              "      quickchartButtonEl.style.display =\n",
              "        google.colab.kernel.accessAllowed ? 'block' : 'none';\n",
              "    })();\n",
              "  </script>\n",
              "</div>\n",
              "    </div>\n",
              "  </div>\n"
            ]
          },
          "metadata": {}
        }
      ]
    },
    {
      "cell_type": "markdown",
      "source": [
        "### Separar as features e labels"
      ],
      "metadata": {
        "id": "pUl7QNVUO4ja"
      }
    },
    {
      "cell_type": "code",
      "source": [
        "#separa as features\n",
        "features = num_data.drop(['Res'],1)\n",
        "\n",
        "\n",
        "#separa as labels\n",
        "labels = num_data['Res']\n",
        "\n",
        "print('Features')\n",
        "print (features.head())\n",
        "\n",
        "print ('=========')\n",
        "\n",
        "print ('Labels')\n",
        "print (labels.head())"
      ],
      "metadata": {
        "colab": {
          "base_uri": "https://localhost:8080/"
        },
        "id": "6kOe3hvyMXlL",
        "outputId": "8a0e2a8a-b1a0-466c-d95c-493eb412007b"
      },
      "execution_count": 25,
      "outputs": [
        {
          "output_type": "stream",
          "name": "stdout",
          "text": [
            "Features\n",
            "   game_id  home_id  Away_id  HG  AG    PH    PD    PA  MaxH  MaxD  MaxA  \\\n",
            "0        1       21       21   1   1  1.75  3.86  5.25  1.76  3.87  5.31   \n",
            "1        2       27       27   1   1  2.83  3.39  2.68  2.83  3.42  2.70   \n",
            "2        3       13       13   2   1  1.60  4.04  6.72  1.67  4.05  7.22   \n",
            "3        4        7        7   4   2  2.49  3.35  3.15  2.49  3.39  3.15   \n",
            "4        5        9        9   0   1  1.96  3.53  4.41  1.96  3.53  4.41   \n",
            "\n",
            "   AvgH  AvgD  AvgA  \n",
            "0  1.69  3.50  4.90  \n",
            "1  2.59  3.23  2.58  \n",
            "2  1.59  3.67  5.64  \n",
            "3  2.35  3.26  2.84  \n",
            "4  1.89  3.33  3.89  \n",
            "=========\n",
            "Labels\n",
            "0    0\n",
            "1    0\n",
            "2    1\n",
            "3    1\n",
            "4    2\n",
            "Name: Res, dtype: int64\n"
          ]
        },
        {
          "output_type": "stream",
          "name": "stderr",
          "text": [
            "<ipython-input-25-15d300d06e80>:2: FutureWarning: In a future version of pandas all arguments of DataFrame.drop except for the argument 'labels' will be keyword-only.\n",
            "  features = num_data.drop(['Res'],1)\n"
          ]
        }
      ]
    },
    {
      "cell_type": "markdown",
      "source": [
        "## Escolhendo as melhores features com Kbest"
      ],
      "metadata": {
        "id": "380kgHWjO-i2"
      }
    },
    {
      "cell_type": "code",
      "source": [
        "features_list = ('HG','AG','PH','PD','PA','MaxH','MaxD','MaxA','AvgH','AvgD','AvgA')\n",
        "\n",
        "k_best_features = SelectKBest(k='all')\n",
        "k_best_features.fit_transform(features, labels)\n",
        "k_best_features_scores = k_best_features.scores_\n",
        "raw_pairs = zip(features_list[1:], k_best_features_scores)\n",
        "ordered_pairs = list(reversed(sorted(raw_pairs, key=lambda x: x[1])))\n",
        "\n",
        "k_best_features_final = dict(ordered_pairs[:15])\n",
        "best_features = k_best_features_final.keys()\n",
        "print ('')\n",
        "print (\"Melhores features:\")\n",
        "print (k_best_features_final)"
      ],
      "metadata": {
        "colab": {
          "base_uri": "https://localhost:8080/"
        },
        "id": "rMLmBPGRMht2",
        "outputId": "f67590a5-63fd-44f5-85d4-6345f963e0b1"
      },
      "execution_count": 26,
      "outputs": [
        {
          "output_type": "stream",
          "name": "stdout",
          "text": [
            "\n",
            "Melhores features:\n",
            "{'PA': 740.4065621193932, 'MaxH': 731.7074700471329, 'MaxD': 81.51748572743963, 'AvgD': 80.67054047107476, 'AvgH': 63.290872018071454, 'MaxA': 40.62018755299711, 'AvgA': 40.54491193487282, 'AG': 0.6533077251586757, 'PD': 0.027363118243961364, 'PH': 0.027363118243961364}\n"
          ]
        }
      ]
    },
    {
      "cell_type": "markdown",
      "source": [
        "## separa as features com base nas melhores features para treinamento"
      ],
      "metadata": {
        "id": "0Fp0pCnMPEEX"
      }
    },
    {
      "cell_type": "code",
      "source": [
        "features = num_data.drop(['Res','game_id','home_id','Away_id', 'AG','PD','PH'],1)\n",
        "\n",
        "#separa as labels para treinamento\n",
        "labels = num_data['Res']\n",
        "\n",
        "print('Features')\n",
        "print (features.head())\n",
        "\n",
        "print ('=========')\n",
        "\n",
        "print ('Labels')\n",
        "print (labels.head())"
      ],
      "metadata": {
        "colab": {
          "base_uri": "https://localhost:8080/"
        },
        "id": "IILEKiGoMpEZ",
        "outputId": "076a232a-d6aa-43cc-d2c0-f140034ecffc"
      },
      "execution_count": 27,
      "outputs": [
        {
          "output_type": "stream",
          "name": "stdout",
          "text": [
            "Features\n",
            "   HG    PA  MaxH  MaxD  MaxA  AvgH  AvgD  AvgA\n",
            "0   1  5.25  1.76  3.87  5.31  1.69  3.50  4.90\n",
            "1   1  2.68  2.83  3.42  2.70  2.59  3.23  2.58\n",
            "2   2  6.72  1.67  4.05  7.22  1.59  3.67  5.64\n",
            "3   4  3.15  2.49  3.39  3.15  2.35  3.26  2.84\n",
            "4   0  4.41  1.96  3.53  4.41  1.89  3.33  3.89\n",
            "=========\n",
            "Labels\n",
            "0    0\n",
            "1    0\n",
            "2    1\n",
            "3    1\n",
            "4    2\n",
            "Name: Res, dtype: int64\n"
          ]
        },
        {
          "output_type": "stream",
          "name": "stderr",
          "text": [
            "<ipython-input-27-8f104d86cada>:1: FutureWarning: In a future version of pandas all arguments of DataFrame.drop except for the argument 'labels' will be keyword-only.\n",
            "  features = num_data.drop(['Res','game_id','home_id','Away_id', 'AG','PD','PH'],1)\n"
          ]
        }
      ]
    },
    {
      "cell_type": "markdown",
      "source": [
        "## Normalizando os dados de entrada(features)\n",
        "\n",
        "## Gerando o novo padrão"
      ],
      "metadata": {
        "id": "YO2xP65tPJk-"
      }
    },
    {
      "cell_type": "code",
      "source": [
        "scaler = MinMaxScaler().fit(features)\n",
        "features_scale = scaler.transform(features)\n",
        "\n",
        "print ('Features: ',features_scale.shape)\n",
        "print (features_scale)"
      ],
      "metadata": {
        "colab": {
          "base_uri": "https://localhost:8080/"
        },
        "id": "_TcRAxdXMwfU",
        "outputId": "24e4c1d1-3c85-4fb8-cf11-b04a4ce897df"
      },
      "execution_count": 28,
      "outputs": [
        {
          "output_type": "stream",
          "name": "stdout",
          "text": [
            "Features:  (2279, 8)\n",
            "[[0.16666667 0.21853547 0.07060334 ... 0.08239095 0.15945946 0.26920093]\n",
            " [0.16666667 0.0715103  0.20795892 ... 0.22778675 0.08648649 0.08921645]\n",
            " [0.33333333 0.30263158 0.05905006 ... 0.06623586 0.20540541 0.32660978]\n",
            " ...\n",
            " [0.16666667 0.41647597 0.02695764 ... 0.03069467 0.50540541 0.48875097]\n",
            " [0.33333333 0.50171625 0.02439024 ... 0.02423263 0.51351351 0.60822343]\n",
            " [0.16666667 0.10526316 0.13863928 ... 0.15831987 0.13783784 0.14041893]]\n"
          ]
        }
      ]
    },
    {
      "cell_type": "markdown",
      "source": [
        "## Separa em treinamento e teste\n",
        "## Separação manual para manter a ordem cronológica, uma vez que temos informação temporal.\n",
        "## Treino linhas [:1932]\n",
        "## Teste linhas [1932:2155]\n",
        "## Previsão linhas [2155:2280]"
      ],
      "metadata": {
        "id": "gQl8HfDYPP1B"
      }
    },
    {
      "cell_type": "code",
      "source": [
        "X_train = features_scale[:1932]\n",
        "X_test = features_scale[1932:2155]\n",
        "y_train = labels[:1932]\n",
        "y_test = labels[1932:2155]\n",
        "\n",
        "print( len(X_train), len(y_train))\n",
        "\n",
        "print( len(X_test), len(y_test))"
      ],
      "metadata": {
        "colab": {
          "base_uri": "https://localhost:8080/"
        },
        "id": "JkjTfVlKM2Xb",
        "outputId": "e86b9ef8-95c4-4afb-b1b1-5652c619d18d"
      },
      "execution_count": 29,
      "outputs": [
        {
          "output_type": "stream",
          "name": "stdout",
          "text": [
            "1932 1932\n",
            "223 223\n"
          ]
        }
      ]
    },
    {
      "cell_type": "markdown",
      "source": [
        "#Treinando e testando os modelos"
      ],
      "metadata": {
        "id": "KhPASX96PYm9"
      }
    },
    {
      "cell_type": "markdown",
      "source": [
        "## LogisticRegression"
      ],
      "metadata": {
        "id": "iUbLGK_6Pcvs"
      }
    },
    {
      "cell_type": "code",
      "source": [
        "print ('LogisticRegression')\n",
        "\n",
        "\n",
        "clf_LR = LogisticRegression(multi_class='multinomial',max_iter=2000)\n",
        "clf_LR.fit(X_train, y_train)\n",
        "pred= clf_LR.predict(X_test)\n",
        "\n",
        "lg_acc = accuracy_score(y_test, pred)\n",
        "f1=f1_score(y_test,pred,average = 'micro')\n",
        "print ('Acurácia LogisticRegression:{}'.format(lg_acc))\n",
        "print ('F1 Score:{}'.format(f1) )"
      ],
      "metadata": {
        "colab": {
          "base_uri": "https://localhost:8080/"
        },
        "id": "X6lvIS0LM-RF",
        "outputId": "796a6da2-8670-4044-90d5-37ebe5c02457"
      },
      "execution_count": 30,
      "outputs": [
        {
          "output_type": "stream",
          "name": "stdout",
          "text": [
            "LogisticRegression\n",
            "Acurácia LogisticRegression:0.57847533632287\n",
            "F1 Score:0.57847533632287\n"
          ]
        }
      ]
    },
    {
      "cell_type": "markdown",
      "source": [
        "## SVC"
      ],
      "metadata": {
        "id": "8ETqRWSNPfpa"
      }
    },
    {
      "cell_type": "code",
      "source": [
        "print ('SVC')\n",
        "\n",
        "\n",
        "clf = SVC()\n",
        "clf.fit(X_train, y_train)\n",
        "pred= clf.predict(X_test)\n",
        "\n",
        "svc_acc = accuracy_score(y_test, pred)\n",
        "f1=f1_score(y_test,pred, average='micro')\n",
        "print ('Acurácia SVC:{}'.format(svc_acc))\n",
        "print ('F1 Score:{}'.format(f1) )"
      ],
      "metadata": {
        "colab": {
          "base_uri": "https://localhost:8080/"
        },
        "id": "vHtz_YR7NGkY",
        "outputId": "f78ba8a7-e4ca-4468-b481-a5da78873fa8"
      },
      "execution_count": 31,
      "outputs": [
        {
          "output_type": "stream",
          "name": "stdout",
          "text": [
            "SVC\n",
            "Acurácia SVC:0.57847533632287\n",
            "F1 Score:0.57847533632287\n"
          ]
        }
      ]
    },
    {
      "cell_type": "markdown",
      "source": [
        "## Decision Tree"
      ],
      "metadata": {
        "id": "ylILG5JDPkmX"
      }
    },
    {
      "cell_type": "code",
      "source": [
        "print ('Decision Tree')\n",
        "\n",
        "\n",
        "clf = DecisionTreeClassifier()\n",
        "clf.fit(X_train, y_train)\n",
        "pred= clf.predict(X_test)\n",
        "\n",
        "dt_acc = accuracy_score(y_test, pred)\n",
        "f1=f1_score(y_test,pred, average='macro')\n",
        "print ('Acurácia Tree:{}'.format(dt_acc))\n",
        "print ('F1 Score:{}'.format(f1) )"
      ],
      "metadata": {
        "colab": {
          "base_uri": "https://localhost:8080/"
        },
        "id": "3vy2oE1wNNOo",
        "outputId": "da1f86f4-bd25-4ddd-e96d-94f3704a9683"
      },
      "execution_count": 40,
      "outputs": [
        {
          "output_type": "stream",
          "name": "stdout",
          "text": [
            "Decision Tree\n",
            "Acurácia Tree:0.4304932735426009\n",
            "F1 Score:0.39998323272971154\n"
          ]
        }
      ]
    },
    {
      "cell_type": "markdown",
      "source": [
        "## Naive bayes"
      ],
      "metadata": {
        "id": "cYcjr2wsPpZU"
      }
    },
    {
      "cell_type": "code",
      "source": [
        "print ('Naive baeys')\n",
        "\n",
        "\n",
        "clf = GaussianNB()\n",
        "clf.fit(X_train, y_train)\n",
        "pred= clf.predict(X_test)\n",
        "\n",
        "nb_acc = accuracy_score(y_test, pred)\n",
        "f1=f1_score(y_test,pred, average='micro')\n",
        "print ('Acurácia Naive baeys:{}'.format(nb_acc))\n",
        "print ('F1 Score:{}'.format(f1) )"
      ],
      "metadata": {
        "colab": {
          "base_uri": "https://localhost:8080/"
        },
        "id": "HnHkEviYNOwO",
        "outputId": "2b0d5e5b-f6f6-4f45-8896-2da45390f29c"
      },
      "execution_count": 32,
      "outputs": [
        {
          "output_type": "stream",
          "name": "stdout",
          "text": [
            "Naive baeys\n",
            "Acurácia Naive baeys:0.5201793721973094\n",
            "F1 Score:0.5201793721973094\n"
          ]
        }
      ]
    },
    {
      "cell_type": "markdown",
      "source": [
        "#Executando a previsao"
      ],
      "metadata": {
        "id": "mwQi-IknPspz"
      }
    },
    {
      "cell_type": "code",
      "source": [
        "previsao=features_scale[2155:]\n",
        "\n",
        "game_id_full=data['game_id']\n",
        "game_id=game_id_full[2155:]\n",
        "\n",
        "res_full=data['Res']\n",
        "res=res_full[2155:]\n",
        "\n",
        "\n",
        "pred=clf_LR.predict(previsao)\n",
        "\n",
        "df=pd.DataFrame({'real': res, 'previsao':pred, 'game_id':game_id})\n",
        "\n",
        "print(df.head(20))"
      ],
      "metadata": {
        "colab": {
          "base_uri": "https://localhost:8080/"
        },
        "id": "KZsu3jXBNjYA",
        "outputId": "3b9dd71c-12dc-4b03-b493-76febb006e66"
      },
      "execution_count": 33,
      "outputs": [
        {
          "output_type": "stream",
          "name": "stdout",
          "text": [
            "      real  previsao  game_id\n",
            "2155     1         1     2156\n",
            "2156     1         1     2157\n",
            "2157     2         2     2158\n",
            "2158     1         2     2159\n",
            "2159     1         1     2160\n",
            "2160     0         1     2161\n",
            "2161     1         1     2162\n",
            "2162     1         1     2163\n",
            "2163     1         0     2164\n",
            "2164     2         0     2165\n",
            "2165     2         2     2166\n",
            "2166     0         1     2167\n",
            "2167     0         0     2168\n",
            "2168     2         0     2169\n",
            "2169     0         1     2170\n",
            "2170     1         0     2171\n",
            "2171     1         1     2172\n",
            "2172     2         2     2173\n",
            "2173     2         2     2174\n",
            "2174     1         1     2175\n"
          ]
        }
      ]
    },
    {
      "cell_type": "markdown",
      "source": [
        "# Matriz de Confusão"
      ],
      "metadata": {
        "id": "j1bKNk-VPvG3"
      }
    },
    {
      "cell_type": "code",
      "source": [
        "df=pd.DataFrame(df,columns=['real','previsao' ])\n",
        "\n",
        "cf_matrix=pd.crosstab(df['real'], df['previsao'], rownames=['real'] , colnames=['previsao'])\n",
        "\n",
        "sns.heatmap(cf_matrix, annot=True, cmap='Blues')"
      ],
      "metadata": {
        "colab": {
          "base_uri": "https://localhost:8080/",
          "height": 472
        },
        "id": "jlgCPz-7NvsO",
        "outputId": "30220b6d-0815-4a75-d98f-65ec9c6d9865"
      },
      "execution_count": 34,
      "outputs": [
        {
          "output_type": "execute_result",
          "data": {
            "text/plain": [
              "<Axes: xlabel='previsao', ylabel='real'>"
            ]
          },
          "metadata": {},
          "execution_count": 34
        },
        {
          "output_type": "display_data",
          "data": {
            "text/plain": [
              "<Figure size 640x480 with 2 Axes>"
            ],
            "image/png": "[encoded data removed]"
          },
          "metadata": {}
        }
      ]
    }
  ]
}